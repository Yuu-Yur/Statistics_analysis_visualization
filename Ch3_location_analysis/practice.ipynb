{
 "cells": [
  {
   "cell_type": "code",
   "id": "initial_id",
   "metadata": {
    "collapsed": true,
    "ExecuteTime": {
     "end_time": "2025-03-05T01:43:08.756659Z",
     "start_time": "2025-03-05T01:43:08.752474Z"
    }
   },
   "source": [
    "import json\n",
    "import pandas as pd\n",
    "import folium\n",
    "import urllib.request\n",
    "import csv\n",
    "import ssl"
   ],
   "outputs": [],
   "execution_count": 16
  },
  {
   "metadata": {
    "ExecuteTime": {
     "end_time": "2025-03-05T01:54:04.877949Z",
     "start_time": "2025-03-05T01:54:04.641964Z"
    }
   },
   "cell_type": "code",
   "source": [
    "url = \"https://apis.data.go.kr/6260000/BusanArtService/getTblArt?serviceKey=zytXafKy%2Bm%2FrnUWmID8dWjMYtcsoEGBLO42CK%2BGCj7GqtS2rAskQyRttpfZ2dvx8SxomL8i90ZMPjBEJM2Plig%3D%3D&pageNo=1&numOfRows=100&resultType=json\"\n",
    "context = ssl.create_default_context()\n",
    "context.set_ciphers(\"DEFAULT@SECLEVEL=1\")\n",
    "request = urllib.request.urlopen(url, context=context)\n",
    "response = json.loads(request.read().decode(\"utf-8\"))\n",
    "data = response['response']['body']['items']['item']\n",
    "fieldnames = [\"work_name\",\"work_type\",\"lat\",\"lon\"]\n",
    "with open(\"output.csv\", mode=\"w\", newline=\"\", encoding=\"utf-8\") as file:\n",
    "    writer = csv.DictWriter(file, fieldnames=fieldnames)\n",
    "\n",
    "    writer.writeheader()\n",
    "    for item in data:\n",
    "        writer.writerow({key: item[key] for key in fieldnames})"
   ],
   "id": "24cfaa6aa5a5c3ad",
   "outputs": [],
   "execution_count": 32
  },
  {
   "metadata": {
    "ExecuteTime": {
     "end_time": "2025-03-05T02:12:08.809872Z",
     "start_time": "2025-03-05T02:12:08.646336Z"
    }
   },
   "cell_type": "code",
   "source": [
    "CB_geoData = pd.read_csv(\"output.csv\", encoding=\"utf-8\", engine=\"python\")\n",
    "\n",
    "map_CB = folium.Map(location=[35.1379222,129.05562775],zoom_start=15)\n",
    "for item in data:\n",
    "# for i, item in CB_geoData.iterrows():\n",
    "    # folium 의 marker 지정, add_to(folium객체)\n",
    "  folium.Marker(location=[item[\"lat\"],item[\"lon\"]], popup=item[\"work_name\"],icon=folium.Icon(color=\"red\", icon=\"star\")).add_to(map_CB)\n",
    "\n",
    "# 마커 추가한 맵 -> html 문서로 저장.\n",
    "map_CB.save(\"./부산공공미술.html\")"
   ],
   "id": "ea24a4118b5d2690",
   "outputs": [],
   "execution_count": 41
  },
  {
   "metadata": {
    "ExecuteTime": {
     "end_time": "2025-03-05T02:12:10.807427Z",
     "start_time": "2025-03-05T02:12:10.737874Z"
    }
   },
   "cell_type": "code",
   "source": [
    "import webbrowser\n",
    "\n",
    "webbrowser.open(\"부산공공미술.html\")"
   ],
   "id": "ca91e8f94c9dc585",
   "outputs": [
    {
     "data": {
      "text/plain": [
       "True"
      ]
     },
     "execution_count": 42,
     "metadata": {},
     "output_type": "execute_result"
    }
   ],
   "execution_count": 42
  }
 ],
 "metadata": {
  "kernelspec": {
   "display_name": "Python 3",
   "language": "python",
   "name": "python3"
  },
  "language_info": {
   "codemirror_mode": {
    "name": "ipython",
    "version": 2
   },
   "file_extension": ".py",
   "mimetype": "text/x-python",
   "name": "python",
   "nbconvert_exporter": "python",
   "pygments_lexer": "ipython2",
   "version": "2.7.6"
  }
 },
 "nbformat": 4,
 "nbformat_minor": 5
}
